{
 "cells": [
  {
   "cell_type": "code",
   "execution_count": null,
   "id": "ec2ce799-d6e5-4034-8ca1-964ea9c82ed9",
   "metadata": {
    "tags": []
   },
   "outputs": [],
   "source": [
    "import time\n",
    "import numpy as np\n",
    "import grpc\n",
    "from protos.nlp.dm import dm_pb2\n",
    "from protos.nlp.dm import dm_pb2_grpc\n",
    "\n",
    "def run():\n",
    "    #本地测试\n",
    "    channel = grpc.insecure_channel('localhost:50051')\n",
    "    # chatglm服务测试\n",
    "    # channel = grpc.insecure_channel('172.31.208.10:5555')\n",
    "    # 全部服务\n",
    "    # channel = grpc.insecure_channel('172.31.208.4:12241')\n",
    "    # 调用 rpc 服务\n",
    "    stub = dm_pb2_grpc.DmStub(channel)\n",
    "    times = []\n",
    "    time_lens = []\n",
    "    history = {}\n",
    "    while True:\n",
    "        text = input()\n",
    "        response = stub.GetDm(dm_pb2.DmRequest(text=text, history=history, session_id='1', robot_id = -1))\n",
    "        print(\"Dm client received: \" + response.answer)\n",
    "        history = response.history\n",
    "\n",
    "if __name__ == '__main__':\n",
    "    run()"
   ]
  },
  {
   "cell_type": "code",
   "execution_count": null,
   "id": "21584921-4eec-42ad-948f-7ace5c6143b0",
   "metadata": {
    "tags": []
   },
   "outputs": [
    {
     "name": "stdout",
     "output_type": "stream",
     "text": [
      "++++++++++++++++++++++++++++++++++++++++\n"
     ]
    },
    {
     "name": "stdin",
     "output_type": "stream",
     "text": [
      " \n",
      " 沙漠的平均气温多少度\n"
     ]
    },
    {
     "name": "stdout",
     "output_type": "stream",
     "text": [
      "沙漠的平均气温取决于位置和一年中的时间。一般来说，白天沙漠的温度可能高达 100°F（38°C），而在夜间可能会降至 60°F（16°C）以下。在一年中的不同时间，沙漠的平均气温在 50°F 到 80°F（10°C 到 27°C）之间。\n",
      "++++++++++++++++++++++++++++++++++++++++\n",
      "++++++++++++++++++++++++++++++++++++++++\n"
     ]
    }
   ],
   "source": [
    "import time\n",
    "import numpy as np\n",
    "from collections import defaultdict\n",
    "import grpc\n",
    "from protos.nlp.dm import dm_stream_pb2\n",
    "from protos.nlp.dm import dm_stream_pb2_grpc\n",
    "\n",
    "def run():\n",
    "    #本地测试\n",
    "    channel = grpc.insecure_channel('localhost:50051')\n",
    "    # chatglm服务测试\n",
    "    # channel = grpc.insecure_channel('172.31.208.4:5556')\n",
    "    stub = dm_stream_pb2_grpc.Dm_StreamStub(channel)\n",
    "    times = []\n",
    "    time_lens = []\n",
    "    history = defaultdict(list)\n",
    "    while True:\n",
    "        print('+'*40)\n",
    "        system = input()\n",
    "        text = input()\n",
    "        output = ''\n",
    "        response = stub.GetDmStream(dm_stream_pb2.DmRequestStream(text=text, history=history, system_prompt = system),timeout=100)\n",
    "        for res in response:\n",
    "            # print(res.answer.encode('gbk', \"ignore\").decode('gbk'))\n",
    "            output+=res.answer\n",
    "            print(output)\n",
    "        print(output)\n",
    "        print('+'*40)\n",
    "        history['conversation'].append(text)\n",
    "        history['conversation'].append(output)\n",
    "\n",
    "if __name__ == '__main__':\n",
    "    run()"
   ]
  },
  {
   "cell_type": "code",
   "execution_count": 2,
   "id": "545a0111-7aeb-40f4-84e8-116417a1039b",
   "metadata": {
    "tags": []
   },
   "outputs": [
    {
     "data": {
      "text/plain": [
       "b'\\xa1\\xe6'"
      ]
     },
     "execution_count": 2,
     "metadata": {},
     "output_type": "execute_result"
    }
   ],
   "source": []
  },
  {
   "cell_type": "code",
   "execution_count": 17,
   "id": "82a321d4-08f7-4da6-a242-67cd3266e7d4",
   "metadata": {},
   "outputs": [
    {
     "name": "stdout",
     "output_type": "stream",
     "text": [
      "\n",
      "你\n",
      "好\n",
      "！\n",
      "\n"
     ]
    }
   ],
   "source": [
    "import requests\n",
    "import json\n",
    "worker_addr = 'http://'+'aidev.mthreads.com'+':'+'36707'+'/v1/chat/completions'\n",
    "headers = {'Content-Type': 'application/json'}\n",
    "messages = [\n",
    "        {\n",
    "            'role': 'user',\n",
    "            'content': 'hello'\n",
    "        }\n",
    "    ]\n",
    "\n",
    "payload = {\n",
    "    \"messages\": messages,\n",
    "    \"temperature\": 0,\n",
    "    \"max_tokens\": 256,\n",
    "    'stream': True}\n",
    "\n",
    "response = requests.post(worker_addr,json=payload, headers = headers, stream=True)\n",
    "res = ''\n",
    "for chunk in response.iter_lines(decode_unicode=False, delimiter=b\"\\n\\n\"):\n",
    "    if chunk:\n",
    "        if '[DONE]' in str(chunk):\n",
    "            break\n",
    "        data = json.loads(chunk.split(b' ', 1)[1].decode('utf-8'))\n",
    "        if data['error_code'] == 0:\n",
    "            # yield data[\"choices\"][0]['message']['content']\n",
    "            print(data[\"choices\"][0]['delta']['content'])"
   ]
  },
  {
   "cell_type": "code",
   "execution_count": null,
   "id": "e14de1b3-d9ed-4393-8b0e-6b7f78ee483c",
   "metadata": {},
   "outputs": [],
   "source": []
  }
 ],
 "metadata": {
  "kernelspec": {
   "display_name": "Python 3 (ipykernel)",
   "language": "python",
   "name": "python3"
  },
  "language_info": {
   "codemirror_mode": {
    "name": "ipython",
    "version": 3
   },
   "file_extension": ".py",
   "mimetype": "text/x-python",
   "name": "python",
   "nbconvert_exporter": "python",
   "pygments_lexer": "ipython3",
   "version": "3.9.17"
  }
 },
 "nbformat": 4,
 "nbformat_minor": 5
}
