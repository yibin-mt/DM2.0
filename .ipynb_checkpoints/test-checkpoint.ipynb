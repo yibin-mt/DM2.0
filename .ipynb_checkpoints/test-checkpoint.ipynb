{
 "cells": [
  {
   "cell_type": "code",
   "execution_count": 3,
   "id": "1aab1e0f-59a1-4b83-a394-2fc276565518",
   "metadata": {},
   "outputs": [
    {
     "name": "stdout",
     "output_type": "stream",
     "text": [
      "回复 sa\n"
     ]
    }
   ],
   "source": [
    "from DM.DmClass import *\n",
    "\n",
    "dm  = DmClass()\n",
    "\n",
    "dm.load_data('sa', [], 1, 2)\n",
    "\n",
    "dm.response()"
   ]
  },
  {
   "cell_type": "code",
   "execution_count": null,
   "id": "47d22469-70b8-4701-a263-27651383e9af",
   "metadata": {},
   "outputs": [
    {
     "name": "stdin",
     "output_type": "stream",
     "text": [
      " 怎么连接打印机\n"
     ]
    },
    {
     "name": "stdout",
     "output_type": "stream",
     "text": [
      "Dm client received: 你说的是打印复印一体机吗?\n"
     ]
    }
   ],
   "source": [
    "import grpc\n",
    "from protos.nlp.dm import dm_pb2\n",
    "from protos.nlp.dm import dm_pb2_grpc\n",
    "\n",
    "def run():\n",
    "    #本地测试\n",
    "    channel = grpc.insecure_channel('localhost:50051')\n",
    "    #数字人\n",
    "    # channel = grpc.insecure_channel('172.31.208.4:68999')\n",
    "    #客服\n",
    "    # channel = grpc.insecure_channel('172.31.208.4:50041')\n",
    "    # 调用 rpc 服务\n",
    "    stub = dm_pb2_grpc.DmStub(channel)\n",
    "    history = {}\n",
    "    while True:\n",
    "        text = input()\n",
    "        response = stub.GetDm(dm_pb2.DmRequest(text=text, history=history,session_id='1', robot_id = -1))\n",
    "        print(\"Dm client received: \" + response.answer)\n",
    "        history = response.history\n",
    "\n",
    "if __name__ == '__main__':\n",
    "    run()"
   ]
  },
  {
   "cell_type": "code",
   "execution_count": null,
   "id": "18029575-1fcc-46be-8cc4-27ed5fa72cf5",
   "metadata": {},
   "outputs": [],
   "source": []
  }
 ],
 "metadata": {
  "kernelspec": {
   "display_name": "Python 3 (ipykernel)",
   "language": "python",
   "name": "python3"
  },
  "language_info": {
   "codemirror_mode": {
    "name": "ipython",
    "version": 3
   },
   "file_extension": ".py",
   "mimetype": "text/x-python",
   "name": "python",
   "nbconvert_exporter": "python",
   "pygments_lexer": "ipython3",
   "version": "3.9.16"
  }
 },
 "nbformat": 4,
 "nbformat_minor": 5
}
