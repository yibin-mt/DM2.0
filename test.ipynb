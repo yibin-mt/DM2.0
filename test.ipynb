{
 "cells": [
  {
   "cell_type": "code",
   "execution_count": null,
   "id": "6cf93279-f333-4b08-87db-44bfa13ac9cf",
   "metadata": {
    "tags": []
   },
   "outputs": [
    {
     "name": "stdin",
     "output_type": "stream",
     "text": [
      " 碧昂斯的出生地\n"
     ]
    },
    {
     "name": "stdout",
     "output_type": "stream",
     "text": [
      "Dm client received: 美国德克萨斯州休斯顿\n",
      "history : ['', '', '碧昂斯的出生地', '美国德克萨斯州休斯顿'] ['DocQa'] [] ['美国纽约州长岛杰里科', '德州休士顿', '乔治亚州亚特兰大'] []\n"
     ]
    },
    {
     "name": "stdin",
     "output_type": "stream",
     "text": [
      " 不对\n"
     ]
    },
    {
     "name": "stdout",
     "output_type": "stream",
     "text": [
      "Dm client received: 我想了想，是美国纽约州长岛杰里科吗？\n",
      "history : ['碧昂斯的出生地', '美国德克萨斯州休斯顿', '不对', '我想了想，是美国纽约州长岛杰里科吗？'] ['DocQa', 'Mutil-Turn'] [] ['德州休士顿', '乔治亚州亚特兰大'] [-1]\n"
     ]
    },
    {
     "name": "stdin",
     "output_type": "stream",
     "text": [
      " 是的\n"
     ]
    },
    {
     "name": "stdout",
     "output_type": "stream",
     "text": [
      "Dm client received: 嘿嘿～，厉害吧\n",
      "history : ['不对', '我想了想，是美国纽约州长岛杰里科吗？', '是的', '嘿嘿～，厉害吧'] ['DocQa', 'Mutil-Turn', 'Chat'] [] [] []\n"
     ]
    }
   ],
   "source": [
    "import grpc\n",
    "from protos.nlp.dm import dm_pb2\n",
    "from protos.nlp.dm import dm_pb2_grpc\n",
    "\n",
    "def run():\n",
    "    #本地测试\n",
    "    # channel = grpc.insecure_channel('localhost:50051')\n",
    "    #数字人\n",
    "    # channel = grpc.insecure_channel('172.31.208.4:68999')\n",
    "    #客服\n",
    "    # channel = grpc.insecure_channel('172.31.208.4:50035')\n",
    "    #全部服务\n",
    "    channel = grpc.insecure_channel('172.31.208.4:55555')\n",
    "    # 调用 rpc 服务\n",
    "    stub = dm_pb2_grpc.DmStub(channel)\n",
    "    history = {}\n",
    "    while True:\n",
    "        text = input()\n",
    "        response = stub.GetDm(dm_pb2.DmRequest(text=text, history=history,session_id='1', robot_id = -1))\n",
    "        print(\"Dm client received: \" + response.answer)\n",
    "        history = response.history\n",
    "        print('history :', history.conversation, history.intent, history.slots, history.entities, history.task_id)\n",
    "if __name__ == '__main__':\n",
    "    run()"
   ]
  },
  {
   "cell_type": "code",
   "execution_count": null,
   "id": "ec9bea0d-9a17-43c9-83af-3e1d5791ce7b",
   "metadata": {},
   "outputs": [],
   "source": []
  },
  {
   "cell_type": "code",
   "execution_count": null,
   "id": "3d80780f-3450-4568-aa28-3967923c4abc",
   "metadata": {},
   "outputs": [],
   "source": []
  },
  {
   "cell_type": "code",
   "execution_count": null,
   "id": "18029575-1fcc-46be-8cc4-27ed5fa72cf5",
   "metadata": {},
   "outputs": [],
   "source": []
  }
 ],
 "metadata": {
  "kernelspec": {
   "display_name": "Python 3 (ipykernel)",
   "language": "python",
   "name": "python3"
  },
  "language_info": {
   "codemirror_mode": {
    "name": "ipython",
    "version": 3
   },
   "file_extension": ".py",
   "mimetype": "text/x-python",
   "name": "python",
   "nbconvert_exporter": "python",
   "pygments_lexer": "ipython3",
   "version": "3.9.16"
  }
 },
 "nbformat": 4,
 "nbformat_minor": 5
}
