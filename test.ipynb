{
 "cells": [
  {
   "cell_type": "code",
   "execution_count": null,
   "id": "ec2ce799-d6e5-4034-8ca1-964ea9c82ed9",
   "metadata": {
    "tags": []
   },
   "outputs": [],
   "source": [
    "import time\n",
    "import numpy as np\n",
    "import grpc\n",
    "from protos.nlp.dm import dm_pb2\n",
    "from protos.nlp.dm import dm_pb2_grpc\n",
    "\n",
    "def run():\n",
    "    #本地测试\n",
    "    channel = grpc.insecure_channel('localhost:50051')\n",
    "    # chatglm服务测试\n",
    "    # channel = grpc.insecure_channel('172.31.208.10:5555')\n",
    "    # 全部服务\n",
    "    # channel = grpc.insecure_channel('172.31.208.4:12241')\n",
    "    # 调用 rpc 服务\n",
    "    stub = dm_pb2_grpc.DmStub(channel)\n",
    "    times = []\n",
    "    time_lens = []\n",
    "    history = {}\n",
    "    while True:\n",
    "        text = input()\n",
    "        response = stub.GetDm(dm_pb2.DmRequest(text=text, history=history, session_id='1', robot_id = -1))\n",
    "        print(\"Dm client received: \" + response.answer)\n",
    "        history = response.history\n",
    "\n",
    "if __name__ == '__main__':\n",
    "    run()"
   ]
  },
  {
   "cell_type": "code",
   "execution_count": null,
   "id": "21584921-4eec-42ad-948f-7ace5c6143b0",
   "metadata": {
    "collapsed": true,
    "jupyter": {
     "outputs_hidden": true
    },
    "tags": []
   },
   "outputs": [
    {
     "name": "stdout",
     "output_type": "stream",
     "text": [
      "++++++++++++++++++++++++++++++++++++++++\n"
     ]
    },
    {
     "name": "stdin",
     "output_type": "stream",
     "text": [
      " \n",
      " 介绍一下你自己\n"
     ]
    },
    {
     "name": "stdout",
     "output_type": "stream",
     "text": [
      "我\n",
      "我是\n",
      "我是 A\n",
      "我是 AI\n",
      "我是 AI\n",
      "我是 AI 语\n",
      "我是 AI 语言\n",
      "我是 AI 语言模\n",
      "我是 AI 语言模型\n",
      "我是 AI 语言模型，\n",
      "我是 AI 语言模型，没\n",
      "我是 AI 语言模型，没有\n",
      "我是 AI 语言模型，没有名\n",
      "我是 AI 语言模型，没有名字\n",
      "我是 AI 语言模型，没有名字和\n",
      "我是 AI 语言模型，没有名字和个\n",
      "我是 AI 语言模型，没有名字和个人\n",
      "我是 AI 语言模型，没有名字和个人信\n",
      "我是 AI 语言模型，没有名字和个人信息\n",
      "我是 AI 语言模型，没有名字和个人信息。\n",
      "我是 AI 语言模型，没有名字和个人信息。我\n",
      "我是 AI 语言模型，没有名字和个人信息。我的\n",
      "我是 AI 语言模型，没有名字和个人信息。我的目\n",
      "我是 AI 语言模型，没有名字和个人信息。我的目的\n",
      "我是 AI 语言模型，没有名字和个人信息。我的目的是\n",
      "我是 AI 语言模型，没有名字和个人信息。我的目的是帮助\n",
      "我是 AI 语言模型，没有名字和个人信息。我的目的是帮助您\n",
      "我是 AI 语言模型，没有名字和个人信息。我的目的是帮助您解决\n",
      "我是 AI 语言模型，没有名字和个人信息。我的目的是帮助您解决问\n",
      "我是 AI 语言模型，没有名字和个人信息。我的目的是帮助您解决问题\n",
      "我是 AI 语言模型，没有名字和个人信息。我的目的是帮助您解决问题并\n",
      "我是 AI 语言模型，没有名字和个人信息。我的目的是帮助您解决问题并提供\n",
      "我是 AI 语言模型，没有名字和个人信息。我的目的是帮助您解决问题并提供有\n",
      "我是 AI 语言模型，没有名字和个人信息。我的目的是帮助您解决问题并提供有用\n",
      "我是 AI 语言模型，没有名字和个人信息。我的目的是帮助您解决问题并提供有用的\n",
      "我是 AI 语言模型，没有名字和个人信息。我的目的是帮助您解决问题并提供有用的信\n",
      "我是 AI 语言模型，没有名字和个人信息。我的目的是帮助您解决问题并提供有用的信息\n",
      "我是 AI 语言模型，没有名字和个人信息。我的目的是帮助您解决问题并提供有用的信息。\n",
      "我是 AI 语言模型，没有名字和个人信息。我的目的是帮助您解决问题并提供有用的信息。请\n",
      "我是 AI 语言模型，没有名字和个人信息。我的目的是帮助您解决问题并提供有用的信息。请告诉我\n",
      "我是 AI 语言模型，没有名字和个人信息。我的目的是帮助您解决问题并提供有用的信息。请告诉我今\n",
      "我是 AI 语言模型，没有名字和个人信息。我的目的是帮助您解决问题并提供有用的信息。请告诉我今天\n",
      "我是 AI 语言模型，没有名字和个人信息。我的目的是帮助您解决问题并提供有用的信息。请告诉我今天我\n",
      "我是 AI 语言模型，没有名字和个人信息。我的目的是帮助您解决问题并提供有用的信息。请告诉我今天我能\n",
      "我是 AI 语言模型，没有名字和个人信息。我的目的是帮助您解决问题并提供有用的信息。请告诉我今天我能为您\n",
      "我是 AI 语言模型，没有名字和个人信息。我的目的是帮助您解决问题并提供有用的信息。请告诉我今天我能为您提供\n",
      "我是 AI 语言模型，没有名字和个人信息。我的目的是帮助您解决问题并提供有用的信息。请告诉我今天我能为您提供什么\n",
      "我是 AI 语言模型，没有名字和个人信息。我的目的是帮助您解决问题并提供有用的信息。请告诉我今天我能为您提供什么。\n",
      "我是 AI 语言模型，没有名字和个人信息。我的目的是帮助您解决问题并提供有用的信息。请告诉我今天我能为您提供什么。\n",
      "我是 AI 语言模型，没有名字和个人信息。我的目的是帮助您解决问题并提供有用的信息。请告诉我今天我能为您提供什么。\n",
      "++++++++++++++++++++++++++++++++++++++++\n",
      "++++++++++++++++++++++++++++++++++++++++\n"
     ]
    },
    {
     "name": "stdin",
     "output_type": "stream",
     "text": [
      " \n",
      " 你知道沙漠的最高温多少度吗\n"
     ]
    },
    {
     "name": "stdout",
     "output_type": "stream",
     "text": [
      "是\n",
      "是的\n",
      "是的，\n",
      "是的，沙漠\n",
      "是的，沙漠中\n",
      "是的，沙漠中的\n",
      "是的，沙漠中的最\n",
      "是的，沙漠中的最高\n",
      "是的，沙漠中的最高气温\n",
      "是的，沙漠中的最高气温记\n",
      "是的，沙漠中的最高气温记录\n",
      "是的，沙漠中的最高气温记录约为\n",
      "是的，沙漠中的最高气温记录约为\n",
      "是的，沙漠中的最高气温记录约为 1\n",
      "是的，沙漠中的最高气温记录约为 13\n",
      "是的，沙漠中的最高气温记录约为 134\n",
      "是的，沙漠中的最高气温记录约为 134\n",
      "是的，沙漠中的最高气温记录约为 134 华\n",
      "是的，沙漠中的最高气温记录约为 134 华氏\n",
      "是的，沙漠中的最高气温记录约为 134 华氏度\n",
      "是的，沙漠中的最高气温记录约为 134 华氏度（\n",
      "是的，沙漠中的最高气温记录约为 134 华氏度（5\n",
      "是的，沙漠中的最高气温记录约为 134 华氏度（56\n",
      "是的，沙漠中的最高气温记录约为 134 华氏度（56.\n",
      "是的，沙漠中的最高气温记录约为 134 华氏度（56.7\n",
      "是的，沙漠中的最高气温记录约为 134 华氏度（56.7\n",
      "是的，沙漠中的最高气温记录约为 134 华氏度（56.7 摄\n",
      "是的，沙漠中的最高气温记录约为 134 华氏度（56.7 摄氏\n",
      "是的，沙漠中的最高气温记录约为 134 华氏度（56.7 摄氏度\n",
      "是的，沙漠中的最高气温记录约为 134 华氏度（56.7 摄氏度）\n",
      "是的，沙漠中的最高气温记录约为 134 华氏度（56.7 摄氏度），\n",
      "是的，沙漠中的最高气温记录约为 134 华氏度（56.7 摄氏度），1\n",
      "是的，沙漠中的最高气温记录约为 134 华氏度（56.7 摄氏度），19\n",
      "是的，沙漠中的最高气温记录约为 134 华氏度（56.7 摄氏度），191\n",
      "是的，沙漠中的最高气温记录约为 134 华氏度（56.7 摄氏度），1913\n",
      "是的，沙漠中的最高气温记录约为 134 华氏度（56.7 摄氏度），1913\n",
      "是的，沙漠中的最高气温记录约为 134 华氏度（56.7 摄氏度），1913 年\n",
      "是的，沙漠中的最高气温记录约为 134 华氏度（56.7 摄氏度），1913 年在\n",
      "是的，沙漠中的最高气温记录约为 134 华氏度（56.7 摄氏度），1913 年在美\n",
      "是的，沙漠中的最高气温记录约为 134 华氏度（56.7 摄氏度），1913 年在美国\n",
      "是的，沙漠中的最高气温记录约为 134 华氏度（56.7 摄氏度），1913 年在美国加\n",
      "是的，沙漠中的最高气温记录约为 134 华氏度（56.7 摄氏度），1913 年在美国加利\n",
      "是的，沙漠中的最高气温记录约为 134 华氏度（56.7 摄氏度），1913 年在美国加利福\n",
      "是的，沙漠中的最高气温记录约为 134 华氏度（56.7 摄氏度），1913 年在美国加利福尼亚\n",
      "是的，沙漠中的最高气温记录约为 134 华氏度（56.7 摄氏度），1913 年在美国加利福尼亚州\n",
      "是的，沙漠中的最高气温记录约为 134 华氏度（56.7 摄氏度），1913 年在美国加利福尼亚州的\n",
      "是的，沙漠中的最高气温记录约为 134 华氏度（56.7 摄氏度），1913 年在美国加利福尼亚州的死亡\n",
      "是的，沙漠中的最高气温记录约为 134 华氏度（56.7 摄氏度），1913 年在美国加利福尼亚州的死亡谷\n",
      "是的，沙漠中的最高气温记录约为 134 华氏度（56.7 摄氏度），1913 年在美国加利福尼亚州的死亡谷记\n",
      "是的，沙漠中的最高气温记录约为 134 华氏度（56.7 摄氏度），1913 年在美国加利福尼亚州的死亡谷记录\n",
      "是的，沙漠中的最高气温记录约为 134 华氏度（56.7 摄氏度），1913 年在美国加利福尼亚州的死亡谷记录到\n",
      "是的，沙漠中的最高气温记录约为 134 华氏度（56.7 摄氏度），1913 年在美国加利福尼亚州的死亡谷记录到。\n",
      "是的，沙漠中的最高气温记录约为 134 华氏度（56.7 摄氏度），1913 年在美国加利福尼亚州的死亡谷记录到。\n",
      "是的，沙漠中的最高气温记录约为 134 华氏度（56.7 摄氏度），1913 年在美国加利福尼亚州的死亡谷记录到。\n",
      "++++++++++++++++++++++++++++++++++++++++\n",
      "++++++++++++++++++++++++++++++++++++++++\n"
     ]
    }
   ],
   "source": [
    "import time\n",
    "import numpy as np\n",
    "from collections import defaultdict\n",
    "import grpc\n",
    "from protos.nlp.dm import dm_stream_pb2\n",
    "from protos.nlp.dm import dm_stream_pb2_grpc\n",
    "\n",
    "def run():\n",
    "    #本地测试\n",
    "    channel = grpc.insecure_channel('localhost:50051')\n",
    "    # chatglm服务测试\n",
    "    # channel = grpc.insecure_channel('172.31.208.4:5556')\n",
    "    stub = dm_stream_pb2_grpc.Dm_StreamStub(channel)\n",
    "    times = []\n",
    "    time_lens = []\n",
    "    history = defaultdict(list)\n",
    "    while True:\n",
    "        print('+'*40)\n",
    "        system = input()\n",
    "        text = input()\n",
    "        output = ''\n",
    "        response = stub.GetDmStream(dm_stream_pb2.DmRequestStream(text=text, history=history, system_prompt = system),timeout=100)\n",
    "        for res in response:\n",
    "            # print(res.answer.encode('gbk', \"ignore\").decode('gbk'))\n",
    "            output+=res.answer\n",
    "            print(output)\n",
    "        print(output)\n",
    "        print('+'*40)\n",
    "        history['conversation'].append(text)\n",
    "        history['conversation'].append(output)\n",
    "\n",
    "if __name__ == '__main__':\n",
    "    run()"
   ]
  },
  {
   "cell_type": "code",
   "execution_count": 2,
   "id": "545a0111-7aeb-40f4-84e8-116417a1039b",
   "metadata": {
    "tags": []
   },
   "outputs": [
    {
     "data": {
      "text/plain": [
       "b'\\xa1\\xe6'"
      ]
     },
     "execution_count": 2,
     "metadata": {},
     "output_type": "execute_result"
    }
   ],
   "source": []
  },
  {
   "cell_type": "code",
   "execution_count": 17,
   "id": "82a321d4-08f7-4da6-a242-67cd3266e7d4",
   "metadata": {},
   "outputs": [
    {
     "name": "stdout",
     "output_type": "stream",
     "text": [
      "\n",
      "你\n",
      "好\n",
      "！\n",
      "\n"
     ]
    }
   ],
   "source": [
    "import requests\n",
    "import json\n",
    "worker_addr = 'http://'+'aidev.mthreads.com'+':'+'36707'+'/v1/chat/completions'\n",
    "headers = {'Content-Type': 'application/json'}\n",
    "messages = [\n",
    "        {\n",
    "            'role': 'user',\n",
    "            'content': 'hello'\n",
    "        }\n",
    "    ]\n",
    "\n",
    "payload = {\n",
    "    \"messages\": messages,\n",
    "    \"temperature\": 0,\n",
    "    \"max_tokens\": 256,\n",
    "    'stream': True}\n",
    "\n",
    "response = requests.post(worker_addr,json=payload, headers = headers, stream=True)\n",
    "res = ''\n",
    "for chunk in response.iter_lines(decode_unicode=False, delimiter=b\"\\n\\n\"):\n",
    "    if chunk:\n",
    "        if '[DONE]' in str(chunk):\n",
    "            break\n",
    "        data = json.loads(chunk.split(b' ', 1)[1].decode('utf-8'))\n",
    "        if data['error_code'] == 0:\n",
    "            # yield data[\"choices\"][0]['message']['content']\n",
    "            print(data[\"choices\"][0]['delta']['content'])"
   ]
  },
  {
   "cell_type": "code",
   "execution_count": null,
   "id": "e14de1b3-d9ed-4393-8b0e-6b7f78ee483c",
   "metadata": {},
   "outputs": [],
   "source": []
  }
 ],
 "metadata": {
  "kernelspec": {
   "display_name": "Python 3 (ipykernel)",
   "language": "python",
   "name": "python3"
  },
  "language_info": {
   "codemirror_mode": {
    "name": "ipython",
    "version": 3
   },
   "file_extension": ".py",
   "mimetype": "text/x-python",
   "name": "python",
   "nbconvert_exporter": "python",
   "pygments_lexer": "ipython3",
   "version": "3.9.17"
  }
 },
 "nbformat": 4,
 "nbformat_minor": 5
}
